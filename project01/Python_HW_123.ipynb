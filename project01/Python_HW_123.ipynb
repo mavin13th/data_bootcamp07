# HW 1 - Chatbot Pizza
def pizzabot():
    a = 0
    price = 0
    exit_conditions = ("exit", "no")
    while a == 0:
        i = input("Hi! Welcome to MV Pizza booth. Would you like to order now? [yes/no]")
        # dough = ("thick", "thin", "cheese", "sausage")
        # topping = ("hawaiian", "pepporoni", "double cheese", "seafood")
        # sauce = ("ketchup", "paprika", "bbq", "thousan island")

        if i in exit_conditions:
            return "Goodbye. I'll hope to come later MV Pizza booth next opportunity."
        elif i == "yes":
            b = 0
            c = 0
            d = 0
            while b == 0:
                do_in = input("What pizza dough do you want? [thick, thin, cheese, sausage]")
                if do_in == "thick":
                    b += 1
                    price += 70
                elif do_in == "thin":
                    b += 1
                    price += 50
                elif do_in == "cheese":
                    b += 1
                    price += 150
                elif do_in == "sausage":
                    b += 1
                    price += 100
                else: print("Please select either.")

            while c == 0:
                to_in = input("What pizza topping do you want? [hawaiian, pepporoni, double cheese, seafood]")
                if to_in == "hawaiian":
                    c += 1
                    price += 25
                elif to_in == "pepporoni":
                    c += 1
                    price += 25
                elif to_in == "double cheese":
                    c += 1
                    price += 50
                elif to_in == "seafood":
                    c += 1
                    price += 50
                else: print("Please select either.")

            while d == 0:
                sa_in = input("What pizza sauce do you want? [ketchup, paprika, bbq, thousan island]")
                if sa_in == "ketchup":
                    d += 1
                    price += 10
                elif sa_in == "paprika":
                    d += 1
                    price += 10
                elif sa_in == "bbq":
                    d += 1
                    price += 20
                elif sa_in == "thousan island":
                    d += 1
                    price += 20
                else: print("Please select either.")

            e = 0
            while e == 0:
                price = str(price)
                mo_in = input("Your orders have" +price+ "baht. \nWould you like to confirm order or New order again? [cf, new]")
                if mo_in == "cf":
                    print("Wait a moment and when pizza done i'll call you.")
                    e += 1
                elif mo_in == "new":
                    e += 1
                    price = 0
                else: print("Please select either.")

        else: print("I'm sorry. I dont understand your type. please try again.")

pizzabot()

# HW 2 - Pao Ying Chub
import random

option = ["rock", "scissor", "paper"]

def mv_game():
    print("Instruction : Welcome to rock scissor paper game.")
    print("Type 'exit' to exit this game.")
    print("This game user vs bot please pray your lucky to be win.")
    username = input("What's your name?: ")
    print(f"Are you ready? You have 3 options: {option}")

    user_score = 0
    bot_score = 0

    while True:
        user_choose = input("You choose one: ")
        bot_choose = random.choice(option)

        if user_choose == "exit":
            if user_score > bot_score:
                print("Congrat! You win \nscore")
            elif user_score < bot_score:
                print("Next Time! You lost \nscore")
            else: print("Lucky! Tie! \nscore")

            return f"{username} {user_score} : {bot_score} bot"

        else:
            if user_choose == "rock" and bot_choose == "scissor":
                print(f"bot choose: {bot_choose}")
                print("You win!")
                user_score += 1
            elif user_choose == "scissor" and bot_choose == "paper":
                print(f"bot choose: {bot_choose}")
                print("You win!")
                user_score += 1
            elif user_choose == "paper" and bot_choose == "rock":
                print(f"bot choose: {bot_choose}")
                print("You win!")
                user_score += 1
            elif user_choose == "rock" and bot_choose == "paper":
                print(f"bot choose: {bot_choose}")
                print("You lose!")
                bot_score += 1
            elif user_choose == "scissor" and bot_choose == "rock":
                print(f"bot choose: {bot_choose}")
                print("You lose!")
                bot_score += 1
            elif user_choose == "paper" and bot_choose == "scissor":
                print(f"bot choose: {bot_choose}")
                print("You lose!")
                bot_score += 1
            elif user_choose == bot_choose:
                print(f"bot choose: {bot_choose}")
                print("Tie!")
            else:
                print(f"Sorry for your type please check your spelling \nTry again: {option}")

mv_game()

# HW3 - Chat bot ATM
## MV ATM service.
## We have deposit, withdraw, transfer, change password, topup linepay service.
## You can use our service thank you.

class ATM:
    ## create atm class
    def __init__(self, id_card:int, name ,bank, password:int, balance):
        self.id_card = id_card
        self.name = name
        self.bank = bank
        self.password = password
        self.balance = balance

    ## deposit service
    def deposit(self, amt):
        input_password = int(input("Please fill your password: "))
        if input_password == self.password:
            self.amt = amt
            self.balance += amt
            print(f"Your balance is: {self.balance}")
        else:
            print("Sorry! Your password is wrong!")

    ## withdraw service
    def withdraw(self, amt):
        input_password = int(input("Please fill your password: "))
        if input_password == self.password:
            if self.balance < amt:
                print("Sorry! Your balance is not enough!")
            else:
                self.amt = amt
                self.balance -= amt
                print(f"Your balance is: {self.balance}")
        else:
            print("Sorry! Your password is wrong!")

    ## transfer service
    def transfer(self, other_acc, amt):
        input_password = int(input("Please fill your password: "))
        if input_password == self.password:
            if self.balance < amt:
                print("Sorry! Your balance is not enough!")
            else:
                self.amt = amt
                self.balance -= amt
                other_acc.balance += amt
                print(f"Success. Transfer has been confirmed.")
                print(f"Your balance is: {self.balance}")
        else:
            print("Sorry! Your password is wrong!")

    ## change password service
    def change_pw(self):
        input_password = int(input("Please fill your password: "))
        if input_password == self.password:
            input_id = int(input("Please fill your id: "))
            if input_id == self.id_card:
                while True:
                    new_password = int(input("Please fill new password: "))
                    cf_new_password = int(input("Please confirm new password: "))
                    if new_password == cf_new_password:
                        self.password = new_password
                        return "Password changed!"
                    else:
                        print("Sorry!, Your password isn't correct \nPlease try again.")
            else:
                print("Sorry!, Your id is wrong!")
        else:
            print("Sorry! Your password is wrong!")

    ## top up linepay service
    def topup(self):
        input_password = int(input("Please fill your password: "))
        if input_password == self.password:
            while True:
                linepay_id = input("linepay id: ")
                amount = input("topup amout: ")
                confirm = input(f"Confirm topup {amount} to {linepay_id} (yes/no): ")
                if confirm == "yes":
                    return "Success"
                else:
                    print("Please try again")
        else:
            print("Sorry! Your password is wrong!")

mavin_scb = ATM(11111, "mavin", "scb", 1234, 500000)
gik_kbank = ATM(22222, "gik", "kbank", 5678, 700000)

## deposit
mavin_scb.deposit(50000)

## withdraw
mavin_scb.withdraw(100000)

## transfer
gik_kbank.transfer(mavin_scb, 50000)

## check balance
mavin_scb.balance

## change password
mavin_scb.change_pw()

## check new password
mavin_scb.password

## topup
gik_kbank.topup(5000)



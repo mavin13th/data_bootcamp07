# HW01 - API

import pandas as pd
import requests
import json
from time import sleep

## request data from api
url = "https://api.punkapi.com/v2/beers"
result = requests.get(url)

## convert data to json format
data = result.json()

data[0]

## create for loop to separate data and input to blank list
nums = list(range(0,24))
new_list = []

for i in nums:
    row = [
        data[i]["name"],
        data[i]["tagline"],
        data[i]["first_brewed"],
        data[i]["description"],
        data[i]["image_url"]
    ]
    new_list.append(row)
    sleep(1)

print(new_list)

## create dataframe from list
df = pd.DataFrame(new_list, columns = ["name", "tag", "first_brewed_year", "description", "image"])
df

## write to csv file
df.to_csv("beers_api.csv")

# HW02 - Sklearn
## import package

from sklearn.linear_model import LinearRegression
from sklearn.tree import DecisionTreeRegressor
from sklearn.ensemble import RandomForestRegressor
from sklearn.model_selection import train_test_split
import pandas as pd
import numpy as np

## import data mtcars

mtcars = pd.read_csv("https://gist.githubusercontent.com/seankross/a412dfbd88b3db70b74b/raw/5f23f993cd87c283ce766e7ac6b329ee7cc2e1d1/mtcars.csv")
mtcars.head()

## prepare data
## mpg = f(hp,wt,am)

X = mtcars[["hp", "wt", "am"]]
y = mtcars["mpg"]

## split data 70%train, 30%test
X_train, X_test, y_train, y_test = train_test_split(X, y, test_size=0.3, random_state=13)

###Linear Regression
## train model
model = LinearRegression()
model.fit(X_train, y_train)

## test model/scoring
pred = model.predict(X_test)


## evaluate model
## MAE mean absolute error
lm_mae = np.mean(np.absolute((y_test -pred)))

## MSE mean square error
lm_mse = np.mean((y_test - pred)**2)

## RMSE root mean square error
lm_rmse = np.sqrt(np.mean((y_test - pred)**2))

###DecisionTree
## train model
model = DecisionTreeRegressor()
model.fit(X_train, y_train)

## test model/scoring
pred = model.predict(X_test)


## evaluate model
## MAE mean absolute error
dt_mae = np.mean(np.absolute((y_test -pred)))

## MSE mean square error
dt_mse = np.mean((y_test - pred)**2)

## RMSE root mean square error
dt_rmse = np.sqrt(np.mean((y_test - pred)**2))

###Random Forest
## train model
model = RandomForestRegressor()
model.fit(X_train, y_train)

## test model/scoring
pred = model.predict(X_test)


## evaluate model
## MAE mean absolute error
rf_mae = np.mean(np.absolute((y_test -pred)))

## MSE mean square error
rf_mse = np.mean((y_test - pred)**2)

## RMSE root mean square error
rf_rmse = np.sqrt(np.mean((y_test - pred)**2))

###Summary Result
row = [["linear regression", lm_mae, lm_mse, lm_rmse], ["decision tree", dt_mae, dt_mse, dt_rmse], ["random forest", rf_mae, rf_mse, rf_rmse]]
model_mt = pd.DataFrame(row, columns=["Model", "MAE", "MSE", "RMSE"])
model_mt

linear regression and decision tree do similar results maybe change sample size or change random state again to find best result.
